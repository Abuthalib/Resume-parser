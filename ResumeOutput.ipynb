{
 "cells": [
  {
   "cell_type": "code",
   "execution_count": 1,
   "id": "839b4d68",
   "metadata": {},
   "outputs": [
    {
     "name": "stdout",
     "output_type": "stream",
     "text": [
      "Requirement already satisfied: spacy in c:\\users\\abuthalib\\.conda\\envs\\test\\lib\\site-packages (3.7.2)\n",
      "Requirement already satisfied: spacy-legacy<3.1.0,>=3.0.11 in c:\\users\\abuthalib\\.conda\\envs\\test\\lib\\site-packages (from spacy) (3.0.12)\n",
      "Requirement already satisfied: spacy-loggers<2.0.0,>=1.0.0 in c:\\users\\abuthalib\\.conda\\envs\\test\\lib\\site-packages (from spacy) (1.0.5)\n",
      "Requirement already satisfied: murmurhash<1.1.0,>=0.28.0 in c:\\users\\abuthalib\\.conda\\envs\\test\\lib\\site-packages (from spacy) (1.0.10)\n",
      "Requirement already satisfied: cymem<2.1.0,>=2.0.2 in c:\\users\\abuthalib\\.conda\\envs\\test\\lib\\site-packages (from spacy) (2.0.8)\n",
      "Requirement already satisfied: preshed<3.1.0,>=3.0.2 in c:\\users\\abuthalib\\.conda\\envs\\test\\lib\\site-packages (from spacy) (3.0.9)\n",
      "Requirement already satisfied: thinc<8.3.0,>=8.1.8 in c:\\users\\abuthalib\\.conda\\envs\\test\\lib\\site-packages (from spacy) (8.2.1)\n",
      "Requirement already satisfied: wasabi<1.2.0,>=0.9.1 in c:\\users\\abuthalib\\.conda\\envs\\test\\lib\\site-packages (from spacy) (1.1.2)\n",
      "Requirement already satisfied: srsly<3.0.0,>=2.4.3 in c:\\users\\abuthalib\\.conda\\envs\\test\\lib\\site-packages (from spacy) (2.4.8)\n",
      "Requirement already satisfied: catalogue<2.1.0,>=2.0.6 in c:\\users\\abuthalib\\.conda\\envs\\test\\lib\\site-packages (from spacy) (2.0.10)\n",
      "Requirement already satisfied: weasel<0.4.0,>=0.1.0 in c:\\users\\abuthalib\\.conda\\envs\\test\\lib\\site-packages (from spacy) (0.3.3)\n",
      "Requirement already satisfied: typer<0.10.0,>=0.3.0 in c:\\users\\abuthalib\\.conda\\envs\\test\\lib\\site-packages (from spacy) (0.9.0)\n",
      "Requirement already satisfied: smart-open<7.0.0,>=5.2.1 in c:\\users\\abuthalib\\.conda\\envs\\test\\lib\\site-packages (from spacy) (6.4.0)\n",
      "Requirement already satisfied: tqdm<5.0.0,>=4.38.0 in c:\\users\\abuthalib\\.conda\\envs\\test\\lib\\site-packages (from spacy) (4.66.1)\n",
      "Requirement already satisfied: requests<3.0.0,>=2.13.0 in c:\\users\\abuthalib\\.conda\\envs\\test\\lib\\site-packages (from spacy) (2.31.0)\n",
      "Requirement already satisfied: pydantic!=1.8,!=1.8.1,<3.0.0,>=1.7.4 in c:\\users\\abuthalib\\.conda\\envs\\test\\lib\\site-packages (from spacy) (2.4.2)\n",
      "Requirement already satisfied: jinja2 in c:\\users\\abuthalib\\.conda\\envs\\test\\lib\\site-packages (from spacy) (3.1.2)\n",
      "Requirement already satisfied: setuptools in c:\\users\\abuthalib\\.conda\\envs\\test\\lib\\site-packages (from spacy) (68.0.0)\n",
      "Requirement already satisfied: packaging>=20.0 in c:\\users\\abuthalib\\.conda\\envs\\test\\lib\\site-packages (from spacy) (23.1)\n",
      "Requirement already satisfied: langcodes<4.0.0,>=3.2.0 in c:\\users\\abuthalib\\.conda\\envs\\test\\lib\\site-packages (from spacy) (3.3.0)\n",
      "Requirement already satisfied: numpy>=1.19.0 in c:\\users\\abuthalib\\appdata\\roaming\\python\\python311\\site-packages (from spacy) (1.24.3)\n",
      "Requirement already satisfied: annotated-types>=0.4.0 in c:\\users\\abuthalib\\.conda\\envs\\test\\lib\\site-packages (from pydantic!=1.8,!=1.8.1,<3.0.0,>=1.7.4->spacy) (0.6.0)\n",
      "Requirement already satisfied: pydantic-core==2.10.1 in c:\\users\\abuthalib\\.conda\\envs\\test\\lib\\site-packages (from pydantic!=1.8,!=1.8.1,<3.0.0,>=1.7.4->spacy) (2.10.1)\n",
      "Requirement already satisfied: typing-extensions>=4.6.1 in c:\\users\\abuthalib\\.conda\\envs\\test\\lib\\site-packages (from pydantic!=1.8,!=1.8.1,<3.0.0,>=1.7.4->spacy) (4.7.1)\n",
      "Requirement already satisfied: charset-normalizer<4,>=2 in c:\\users\\abuthalib\\.conda\\envs\\test\\lib\\site-packages (from requests<3.0.0,>=2.13.0->spacy) (2.0.4)\n",
      "Requirement already satisfied: idna<4,>=2.5 in c:\\users\\abuthalib\\.conda\\envs\\test\\lib\\site-packages (from requests<3.0.0,>=2.13.0->spacy) (3.4)\n",
      "Requirement already satisfied: urllib3<3,>=1.21.1 in c:\\users\\abuthalib\\.conda\\envs\\test\\lib\\site-packages (from requests<3.0.0,>=2.13.0->spacy) (1.26.16)\n",
      "Requirement already satisfied: certifi>=2017.4.17 in c:\\users\\abuthalib\\.conda\\envs\\test\\lib\\site-packages (from requests<3.0.0,>=2.13.0->spacy) (2023.7.22)\n",
      "Requirement already satisfied: blis<0.8.0,>=0.7.8 in c:\\users\\abuthalib\\.conda\\envs\\test\\lib\\site-packages (from thinc<8.3.0,>=8.1.8->spacy) (0.7.11)\n",
      "Requirement already satisfied: confection<1.0.0,>=0.0.1 in c:\\users\\abuthalib\\.conda\\envs\\test\\lib\\site-packages (from thinc<8.3.0,>=8.1.8->spacy) (0.1.3)\n",
      "Requirement already satisfied: colorama in c:\\users\\abuthalib\\.conda\\envs\\test\\lib\\site-packages (from tqdm<5.0.0,>=4.38.0->spacy) (0.4.6)\n",
      "Requirement already satisfied: click<9.0.0,>=7.1.1 in c:\\users\\abuthalib\\.conda\\envs\\test\\lib\\site-packages (from typer<0.10.0,>=0.3.0->spacy) (8.0.4)\n",
      "Requirement already satisfied: cloudpathlib<0.17.0,>=0.7.0 in c:\\users\\abuthalib\\.conda\\envs\\test\\lib\\site-packages (from weasel<0.4.0,>=0.1.0->spacy) (0.16.0)\n",
      "Requirement already satisfied: MarkupSafe>=2.0 in c:\\users\\abuthalib\\.conda\\envs\\test\\lib\\site-packages (from jinja2->spacy) (2.1.1)\n",
      "Requirement already satisfied: spacy_transformers in c:\\users\\abuthalib\\.conda\\envs\\test\\lib\\site-packages (1.3.3)\n",
      "Requirement already satisfied: spacy<4.0.0,>=3.5.0 in c:\\users\\abuthalib\\.conda\\envs\\test\\lib\\site-packages (from spacy_transformers) (3.7.2)\n",
      "Requirement already satisfied: transformers<4.36.0,>=3.4.0 in c:\\users\\abuthalib\\appdata\\roaming\\python\\python311\\site-packages (from spacy_transformers) (4.35.2)\n",
      "Requirement already satisfied: torch>=1.8.0 in c:\\users\\abuthalib\\appdata\\roaming\\python\\python311\\site-packages (from spacy_transformers) (2.1.1)\n",
      "Requirement already satisfied: srsly<3.0.0,>=2.4.0 in c:\\users\\abuthalib\\.conda\\envs\\test\\lib\\site-packages (from spacy_transformers) (2.4.8)\n",
      "Requirement already satisfied: spacy-alignments<1.0.0,>=0.7.2 in c:\\users\\abuthalib\\.conda\\envs\\test\\lib\\site-packages (from spacy_transformers) (0.9.1)\n",
      "Requirement already satisfied: numpy>=1.19.0 in c:\\users\\abuthalib\\appdata\\roaming\\python\\python311\\site-packages (from spacy_transformers) (1.24.3)\n",
      "Requirement already satisfied: spacy-legacy<3.1.0,>=3.0.11 in c:\\users\\abuthalib\\.conda\\envs\\test\\lib\\site-packages (from spacy<4.0.0,>=3.5.0->spacy_transformers) (3.0.12)\n",
      "Requirement already satisfied: spacy-loggers<2.0.0,>=1.0.0 in c:\\users\\abuthalib\\.conda\\envs\\test\\lib\\site-packages (from spacy<4.0.0,>=3.5.0->spacy_transformers) (1.0.5)\n",
      "Requirement already satisfied: murmurhash<1.1.0,>=0.28.0 in c:\\users\\abuthalib\\.conda\\envs\\test\\lib\\site-packages (from spacy<4.0.0,>=3.5.0->spacy_transformers) (1.0.10)\n",
      "Requirement already satisfied: cymem<2.1.0,>=2.0.2 in c:\\users\\abuthalib\\.conda\\envs\\test\\lib\\site-packages (from spacy<4.0.0,>=3.5.0->spacy_transformers) (2.0.8)\n",
      "Requirement already satisfied: preshed<3.1.0,>=3.0.2 in c:\\users\\abuthalib\\.conda\\envs\\test\\lib\\site-packages (from spacy<4.0.0,>=3.5.0->spacy_transformers) (3.0.9)\n",
      "Requirement already satisfied: thinc<8.3.0,>=8.1.8 in c:\\users\\abuthalib\\.conda\\envs\\test\\lib\\site-packages (from spacy<4.0.0,>=3.5.0->spacy_transformers) (8.2.1)\n",
      "Requirement already satisfied: wasabi<1.2.0,>=0.9.1 in c:\\users\\abuthalib\\.conda\\envs\\test\\lib\\site-packages (from spacy<4.0.0,>=3.5.0->spacy_transformers) (1.1.2)\n",
      "Requirement already satisfied: catalogue<2.1.0,>=2.0.6 in c:\\users\\abuthalib\\.conda\\envs\\test\\lib\\site-packages (from spacy<4.0.0,>=3.5.0->spacy_transformers) (2.0.10)\n",
      "Requirement already satisfied: weasel<0.4.0,>=0.1.0 in c:\\users\\abuthalib\\.conda\\envs\\test\\lib\\site-packages (from spacy<4.0.0,>=3.5.0->spacy_transformers) (0.3.3)\n",
      "Requirement already satisfied: typer<0.10.0,>=0.3.0 in c:\\users\\abuthalib\\.conda\\envs\\test\\lib\\site-packages (from spacy<4.0.0,>=3.5.0->spacy_transformers) (0.9.0)\n",
      "Requirement already satisfied: smart-open<7.0.0,>=5.2.1 in c:\\users\\abuthalib\\.conda\\envs\\test\\lib\\site-packages (from spacy<4.0.0,>=3.5.0->spacy_transformers) (6.4.0)\n",
      "Requirement already satisfied: tqdm<5.0.0,>=4.38.0 in c:\\users\\abuthalib\\.conda\\envs\\test\\lib\\site-packages (from spacy<4.0.0,>=3.5.0->spacy_transformers) (4.66.1)\n",
      "Requirement already satisfied: requests<3.0.0,>=2.13.0 in c:\\users\\abuthalib\\.conda\\envs\\test\\lib\\site-packages (from spacy<4.0.0,>=3.5.0->spacy_transformers) (2.31.0)\n",
      "Requirement already satisfied: pydantic!=1.8,!=1.8.1,<3.0.0,>=1.7.4 in c:\\users\\abuthalib\\.conda\\envs\\test\\lib\\site-packages (from spacy<4.0.0,>=3.5.0->spacy_transformers) (2.4.2)\n",
      "Requirement already satisfied: jinja2 in c:\\users\\abuthalib\\.conda\\envs\\test\\lib\\site-packages (from spacy<4.0.0,>=3.5.0->spacy_transformers) (3.1.2)\n",
      "Requirement already satisfied: setuptools in c:\\users\\abuthalib\\.conda\\envs\\test\\lib\\site-packages (from spacy<4.0.0,>=3.5.0->spacy_transformers) (68.0.0)\n",
      "Requirement already satisfied: packaging>=20.0 in c:\\users\\abuthalib\\.conda\\envs\\test\\lib\\site-packages (from spacy<4.0.0,>=3.5.0->spacy_transformers) (23.1)\n",
      "Requirement already satisfied: langcodes<4.0.0,>=3.2.0 in c:\\users\\abuthalib\\.conda\\envs\\test\\lib\\site-packages (from spacy<4.0.0,>=3.5.0->spacy_transformers) (3.3.0)\n",
      "Requirement already satisfied: filelock in c:\\users\\abuthalib\\.conda\\envs\\test\\lib\\site-packages (from torch>=1.8.0->spacy_transformers) (3.13.1)\n",
      "Requirement already satisfied: typing-extensions in c:\\users\\abuthalib\\.conda\\envs\\test\\lib\\site-packages (from torch>=1.8.0->spacy_transformers) (4.7.1)\n",
      "Requirement already satisfied: sympy in c:\\users\\abuthalib\\.conda\\envs\\test\\lib\\site-packages (from torch>=1.8.0->spacy_transformers) (1.12)\n",
      "Requirement already satisfied: networkx in c:\\users\\abuthalib\\.conda\\envs\\test\\lib\\site-packages (from torch>=1.8.0->spacy_transformers) (3.2.1)\n",
      "Requirement already satisfied: fsspec in c:\\users\\abuthalib\\appdata\\roaming\\python\\python311\\site-packages (from torch>=1.8.0->spacy_transformers) (2023.10.0)\n",
      "Requirement already satisfied: huggingface-hub<1.0,>=0.16.4 in c:\\users\\abuthalib\\appdata\\roaming\\python\\python311\\site-packages (from transformers<4.36.0,>=3.4.0->spacy_transformers) (0.19.4)\n",
      "Requirement already satisfied: pyyaml>=5.1 in c:\\users\\abuthalib\\.conda\\envs\\test\\lib\\site-packages (from transformers<4.36.0,>=3.4.0->spacy_transformers) (6.0)\n",
      "Requirement already satisfied: regex!=2019.12.17 in c:\\users\\abuthalib\\.conda\\envs\\test\\lib\\site-packages (from transformers<4.36.0,>=3.4.0->spacy_transformers) (2023.8.8)\n",
      "Requirement already satisfied: tokenizers<0.19,>=0.14 in c:\\users\\abuthalib\\appdata\\roaming\\python\\python311\\site-packages (from transformers<4.36.0,>=3.4.0->spacy_transformers) (0.15.0)\n",
      "Requirement already satisfied: safetensors>=0.3.1 in c:\\users\\abuthalib\\appdata\\roaming\\python\\python311\\site-packages (from transformers<4.36.0,>=3.4.0->spacy_transformers) (0.4.0)\n",
      "Requirement already satisfied: annotated-types>=0.4.0 in c:\\users\\abuthalib\\.conda\\envs\\test\\lib\\site-packages (from pydantic!=1.8,!=1.8.1,<3.0.0,>=1.7.4->spacy<4.0.0,>=3.5.0->spacy_transformers) (0.6.0)\n",
      "Requirement already satisfied: pydantic-core==2.10.1 in c:\\users\\abuthalib\\.conda\\envs\\test\\lib\\site-packages (from pydantic!=1.8,!=1.8.1,<3.0.0,>=1.7.4->spacy<4.0.0,>=3.5.0->spacy_transformers) (2.10.1)\n",
      "Requirement already satisfied: charset-normalizer<4,>=2 in c:\\users\\abuthalib\\.conda\\envs\\test\\lib\\site-packages (from requests<3.0.0,>=2.13.0->spacy<4.0.0,>=3.5.0->spacy_transformers) (2.0.4)\n",
      "Requirement already satisfied: idna<4,>=2.5 in c:\\users\\abuthalib\\.conda\\envs\\test\\lib\\site-packages (from requests<3.0.0,>=2.13.0->spacy<4.0.0,>=3.5.0->spacy_transformers) (3.4)\n",
      "Requirement already satisfied: urllib3<3,>=1.21.1 in c:\\users\\abuthalib\\.conda\\envs\\test\\lib\\site-packages (from requests<3.0.0,>=2.13.0->spacy<4.0.0,>=3.5.0->spacy_transformers) (1.26.16)\n",
      "Requirement already satisfied: certifi>=2017.4.17 in c:\\users\\abuthalib\\.conda\\envs\\test\\lib\\site-packages (from requests<3.0.0,>=2.13.0->spacy<4.0.0,>=3.5.0->spacy_transformers) (2023.7.22)\n",
      "Requirement already satisfied: blis<0.8.0,>=0.7.8 in c:\\users\\abuthalib\\.conda\\envs\\test\\lib\\site-packages (from thinc<8.3.0,>=8.1.8->spacy<4.0.0,>=3.5.0->spacy_transformers) (0.7.11)\n",
      "Requirement already satisfied: confection<1.0.0,>=0.0.1 in c:\\users\\abuthalib\\.conda\\envs\\test\\lib\\site-packages (from thinc<8.3.0,>=8.1.8->spacy<4.0.0,>=3.5.0->spacy_transformers) (0.1.3)\n",
      "Requirement already satisfied: colorama in c:\\users\\abuthalib\\.conda\\envs\\test\\lib\\site-packages (from tqdm<5.0.0,>=4.38.0->spacy<4.0.0,>=3.5.0->spacy_transformers) (0.4.6)\n",
      "Requirement already satisfied: click<9.0.0,>=7.1.1 in c:\\users\\abuthalib\\.conda\\envs\\test\\lib\\site-packages (from typer<0.10.0,>=0.3.0->spacy<4.0.0,>=3.5.0->spacy_transformers) (8.0.4)\n",
      "Requirement already satisfied: cloudpathlib<0.17.0,>=0.7.0 in c:\\users\\abuthalib\\.conda\\envs\\test\\lib\\site-packages (from weasel<0.4.0,>=0.1.0->spacy<4.0.0,>=3.5.0->spacy_transformers) (0.16.0)\n",
      "Requirement already satisfied: MarkupSafe>=2.0 in c:\\users\\abuthalib\\.conda\\envs\\test\\lib\\site-packages (from jinja2->spacy<4.0.0,>=3.5.0->spacy_transformers) (2.1.1)\n",
      "Requirement already satisfied: mpmath>=0.19 in c:\\users\\abuthalib\\.conda\\envs\\test\\lib\\site-packages (from sympy->torch>=1.8.0->spacy_transformers) (1.3.0)\n"
     ]
    }
   ],
   "source": [
    "!pip install -U spacy\n",
    "!pip install spacy_transformers"
   ]
  },
  {
   "cell_type": "code",
   "execution_count": 1,
   "id": "7070054e",
   "metadata": {},
   "outputs": [],
   "source": [
    "import spacy\n",
    "from spacy.tokens import DocBin\n",
    "from tqdm import tqdm\n",
    "import json"
   ]
  },
  {
   "cell_type": "code",
   "execution_count": 10,
   "id": "1f42005d",
   "metadata": {},
   "outputs": [],
   "source": [
    "nlp = spacy.load('C:/Users/ABUTHALIB/Desktop/Project Pratice/output/model-best')\n"
   ]
  },
  {
   "cell_type": "code",
   "execution_count": 11,
   "id": "e54f2c22",
   "metadata": {},
   "outputs": [
    {
     "name": "stdout",
     "output_type": "stream",
     "text": [
      "Abu thalib ->>>>>>>>>> Name\n",
      "Apple ->>>>>>>>>> Companies worked at\n",
      "6 year ->>>>>>>>>> Years of Experience\n"
     ]
    }
   ],
   "source": [
    "doc = nlp('My name is Abu thalib. worked at Apple. i have 6 year of experince')\n",
    "\n",
    "for ent in doc.ents:\n",
    "  print(ent.text, \"->>>>>>>>>>\",ent.label_)"
   ]
  },
  {
   "cell_type": "code",
   "execution_count": 12,
   "id": "02e6f424",
   "metadata": {},
   "outputs": [
    {
     "name": "stdout",
     "output_type": "stream",
     "text": [
      "Requirement already satisfied: PyMuPDF in c:\\users\\abuthalib\\.conda\\envs\\test\\lib\\site-packages (1.23.6)\n",
      "Requirement already satisfied: PyMuPDFb==1.23.6 in c:\\users\\abuthalib\\.conda\\envs\\test\\lib\\site-packages (from PyMuPDF) (1.23.6)\n",
      "Note: you may need to restart the kernel to use updated packages.\n"
     ]
    }
   ],
   "source": [
    "pip install PyMuPDF"
   ]
  },
  {
   "cell_type": "code",
   "execution_count": 13,
   "id": "6c8ea5fa",
   "metadata": {},
   "outputs": [],
   "source": [
    "import sys,fitz"
   ]
  },
  {
   "cell_type": "code",
   "execution_count": 14,
   "id": "58fd67e1",
   "metadata": {},
   "outputs": [],
   "source": [
    "fname = 'C:/Users/ABUTHALIB/Desktop/Project Pratice/Alice Clark CV.pdf'\n",
    "doc = fitz.open(fname)\n",
    "\n",
    "if doc is None:\n",
    "    print(\"Error: Could not open the document.\")\n",
    "else:\n",
    "    text = \" \"\n",
    "    for page in doc:\n",
    "        text = text + str(page.get_text())"
   ]
  },
  {
   "cell_type": "code",
   "execution_count": 15,
   "id": "3a1c5d38",
   "metadata": {},
   "outputs": [],
   "source": [
    "text = text.strip()\n",
    "\n",
    "text = ' '.join(text.split())"
   ]
  },
  {
   "cell_type": "code",
   "execution_count": 16,
   "id": "ad4c391f",
   "metadata": {},
   "outputs": [
    {
     "data": {
      "text/plain": [
       "'Alice Clark AI / Machine Learning Delhi, India Email me on Indeed • 20+ years of experience in data handling, design, and development • Data Warehouse: Data analysis, star/snow flake scema data modelling and design specific to data warehousing and business intelligence • Database: Experience in database designing, scalability, back-up and recovery, writing and optimizing SQL code and Stored Procedures, creating functions, views, triggers and indexes. Cloud platform: Worked on Microsoft Azure cloud services like Document DB, SQL Azure, Stream Analytics, Event hub, Power BI, Web Job, Web App, Power BI, Azure data lake analytics(U-SQL) Willing to relocate anywhere WORK EXPERIENCE Software Engineer Microsoft – Bangalore, Karnataka January 2000 to Present 1. Microsoft Rewards Live dashboards: Description: - Microsoft rewards is loyalty program that rewards Users for browsing and shopping online. Microsoft Rewards members can earn points when searching with Bing, browsing with Microsoft Edge and making purchases at the Xbox Store, the Windows Store and the Microsoft Store. Plus, user can pick up bonus points for taking daily quizzes and tours on the Microsoft rewards website. Rewards live dashboards gives a live picture of usage world-wide and by markets like US, Canada, Australia, new user registration count, top/bottom performing rewards offers, orders stats and weekly trends of user activities, orders and new user registrations. the PBI tiles gets refreshed in different frequencies starting from 5 seconds to 30 minutes. Technology/Tools used EDUCATION Indian Institute of Technology – Mumbai 2001 SKILLS Machine Learning, Natural Language Processing, and Big Data Handling ADDITIONAL INFORMATION Professional Skills • Excellent analytical, problem solving, communication, knowledge transfer and interpersonal skills with ability to interact with individuals at all the levels • Quick learner and maintains cordial relationship with project manager and team members and good performer both in team and independent job environments • Positive attitude towards superiors &amp; peers • Supervised junior developers throughout project lifecycle and provided technical assistance'"
      ]
     },
     "execution_count": 16,
     "metadata": {},
     "output_type": "execute_result"
    }
   ],
   "source": [
    "text"
   ]
  },
  {
   "cell_type": "code",
   "execution_count": 17,
   "id": "05ab8285",
   "metadata": {},
   "outputs": [
    {
     "name": "stdout",
     "output_type": "stream",
     "text": [
      "Alice Clark ->>>>>>>>>> Name\n",
      "AI / Machine Learning Delhi, India ->>>>>>>>>> Designation\n",
      "20+ years ->>>>>>>>>> Years of Experience\n",
      "EXPERIENCE Software Engineer ->>>>>>>>>> Designation\n",
      "Microsoft ->>>>>>>>>> Companies worked at\n",
      "Indian Institute of Technology ->>>>>>>>>> College Name\n"
     ]
    }
   ],
   "source": [
    "doc = nlp(text)\n",
    "\n",
    "for ent in doc.ents:\n",
    "  print(ent.text, \"->>>>>>>>>>\",ent.label_)"
   ]
  },
  {
   "cell_type": "code",
   "execution_count": null,
   "id": "209dd7ac",
   "metadata": {},
   "outputs": [],
   "source": []
  }
 ],
 "metadata": {
  "kernelspec": {
   "display_name": "Python 3 (ipykernel)",
   "language": "python",
   "name": "python3"
  },
  "language_info": {
   "codemirror_mode": {
    "name": "ipython",
    "version": 3
   },
   "file_extension": ".py",
   "mimetype": "text/x-python",
   "name": "python",
   "nbconvert_exporter": "python",
   "pygments_lexer": "ipython3",
   "version": "3.11.4"
  }
 },
 "nbformat": 4,
 "nbformat_minor": 5
}
